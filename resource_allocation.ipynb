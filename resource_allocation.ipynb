{
  "cells": [
    {
      "cell_type": "markdown",
      "metadata": {
        "id": "view-in-github",
        "colab_type": "text"
      },
      "source": [
        "<a href=\"https://colab.research.google.com/github/KEMAL-MUDIE/kemal/blob/main/resource_allocation.ipynb\" target=\"_parent\"><img src=\"https://colab.research.google.com/assets/colab-badge.svg\" alt=\"Open In Colab\"/></a>"
      ]
    },
    {
      "cell_type": "markdown",
      "id": "4d56ad6c",
      "metadata": {
        "id": "4d56ad6c"
      },
      "source": [
        "# Resource Allocation Optimization in 5G Networks: A Machine Learning Approach"
      ]
    },
    {
      "cell_type": "code",
      "execution_count": null,
      "id": "7c7c508c",
      "metadata": {
        "id": "7c7c508c"
      },
      "outputs": [],
      "source": [
        "import numpy as np\n",
        "import pandas as pd\n",
        "import matplotlib.pyplot as plt\n",
        "import seaborn as sns\n",
        "import plotly.express as px # is a high-level interface for creating various types of interactive plots with minimal code.\n",
        "import plotly.graph_objects as go # is a lower-level interface that offers more control and customization over the appearance and behavior of your plots"
      ]
    },
    {
      "cell_type": "code",
      "execution_count": null,
      "id": "45e0a991",
      "metadata": {
        "id": "45e0a991"
      },
      "outputs": [],
      "source": [
        "import warnings\n",
        "warnings.filterwarnings('ignore')"
      ]
    },
    {
      "cell_type": "code",
      "execution_count": null,
      "id": "5c476184",
      "metadata": {
        "id": "5c476184"
      },
      "outputs": [],
      "source": [
        "df = pd.read_csv(\"5G_Service.csv\")"
      ]
    },
    {
      "cell_type": "code",
      "execution_count": null,
      "id": "1e6f0094",
      "metadata": {
        "id": "1e6f0094",
        "outputId": "486b83be-f5ef-487e-a663-c318671ab67d",
        "colab": {
          "base_uri": "https://localhost:8080/",
          "height": 206
        }
      },
      "outputs": [
        {
          "output_type": "execute_result",
          "data": {
            "text/plain": [
              "          Timestamp User_ID   Application_Type Signal_Strength Latency  \\\n",
              "0  09-03-2023 10:00  User_1         Video_Call         -75 dBm   30 ms   \n",
              "1  09-03-2023 10:00  User_2         Voice_Call         -80 dBm   20 ms   \n",
              "2  09-03-2023 10:00  User_3          Streaming         -85 dBm   40 ms   \n",
              "3  09-03-2023 10:00  User_4  Emergency_Service         -70 dBm   10 ms   \n",
              "4  09-03-2023 10:00  User_5      Online_Gaming         -78 dBm   25 ms   \n",
              "\n",
              "  Required_Bandwidth Allocated_Bandwidth Resource_Allocation  \n",
              "0            10 Mbps             15 Mbps                 70%  \n",
              "1           100 Kbps            120 Kbps                 80%  \n",
              "2             5 Mbps              6 Mbps                 75%  \n",
              "3             1 Mbps            1.5 Mbps                 90%  \n",
              "4             2 Mbps              3 Mbps                 85%  "
            ],
            "text/html": [
              "\n",
              "  <div id=\"df-15626e1d-937f-4726-87a9-5fcf6d3f058a\" class=\"colab-df-container\">\n",
              "    <div>\n",
              "<style scoped>\n",
              "    .dataframe tbody tr th:only-of-type {\n",
              "        vertical-align: middle;\n",
              "    }\n",
              "\n",
              "    .dataframe tbody tr th {\n",
              "        vertical-align: top;\n",
              "    }\n",
              "\n",
              "    .dataframe thead th {\n",
              "        text-align: right;\n",
              "    }\n",
              "</style>\n",
              "<table border=\"1\" class=\"dataframe\">\n",
              "  <thead>\n",
              "    <tr style=\"text-align: right;\">\n",
              "      <th></th>\n",
              "      <th>Timestamp</th>\n",
              "      <th>User_ID</th>\n",
              "      <th>Application_Type</th>\n",
              "      <th>Signal_Strength</th>\n",
              "      <th>Latency</th>\n",
              "      <th>Required_Bandwidth</th>\n",
              "      <th>Allocated_Bandwidth</th>\n",
              "      <th>Resource_Allocation</th>\n",
              "    </tr>\n",
              "  </thead>\n",
              "  <tbody>\n",
              "    <tr>\n",
              "      <th>0</th>\n",
              "      <td>09-03-2023 10:00</td>\n",
              "      <td>User_1</td>\n",
              "      <td>Video_Call</td>\n",
              "      <td>-75 dBm</td>\n",
              "      <td>30 ms</td>\n",
              "      <td>10 Mbps</td>\n",
              "      <td>15 Mbps</td>\n",
              "      <td>70%</td>\n",
              "    </tr>\n",
              "    <tr>\n",
              "      <th>1</th>\n",
              "      <td>09-03-2023 10:00</td>\n",
              "      <td>User_2</td>\n",
              "      <td>Voice_Call</td>\n",
              "      <td>-80 dBm</td>\n",
              "      <td>20 ms</td>\n",
              "      <td>100 Kbps</td>\n",
              "      <td>120 Kbps</td>\n",
              "      <td>80%</td>\n",
              "    </tr>\n",
              "    <tr>\n",
              "      <th>2</th>\n",
              "      <td>09-03-2023 10:00</td>\n",
              "      <td>User_3</td>\n",
              "      <td>Streaming</td>\n",
              "      <td>-85 dBm</td>\n",
              "      <td>40 ms</td>\n",
              "      <td>5 Mbps</td>\n",
              "      <td>6 Mbps</td>\n",
              "      <td>75%</td>\n",
              "    </tr>\n",
              "    <tr>\n",
              "      <th>3</th>\n",
              "      <td>09-03-2023 10:00</td>\n",
              "      <td>User_4</td>\n",
              "      <td>Emergency_Service</td>\n",
              "      <td>-70 dBm</td>\n",
              "      <td>10 ms</td>\n",
              "      <td>1 Mbps</td>\n",
              "      <td>1.5 Mbps</td>\n",
              "      <td>90%</td>\n",
              "    </tr>\n",
              "    <tr>\n",
              "      <th>4</th>\n",
              "      <td>09-03-2023 10:00</td>\n",
              "      <td>User_5</td>\n",
              "      <td>Online_Gaming</td>\n",
              "      <td>-78 dBm</td>\n",
              "      <td>25 ms</td>\n",
              "      <td>2 Mbps</td>\n",
              "      <td>3 Mbps</td>\n",
              "      <td>85%</td>\n",
              "    </tr>\n",
              "  </tbody>\n",
              "</table>\n",
              "</div>\n",
              "    <div class=\"colab-df-buttons\">\n",
              "\n",
              "  <div class=\"colab-df-container\">\n",
              "    <button class=\"colab-df-convert\" onclick=\"convertToInteractive('df-15626e1d-937f-4726-87a9-5fcf6d3f058a')\"\n",
              "            title=\"Convert this dataframe to an interactive table.\"\n",
              "            style=\"display:none;\">\n",
              "\n",
              "  <svg xmlns=\"http://www.w3.org/2000/svg\" height=\"24px\" viewBox=\"0 -960 960 960\">\n",
              "    <path d=\"M120-120v-720h720v720H120Zm60-500h600v-160H180v160Zm220 220h160v-160H400v160Zm0 220h160v-160H400v160ZM180-400h160v-160H180v160Zm440 0h160v-160H620v160ZM180-180h160v-160H180v160Zm440 0h160v-160H620v160Z\"/>\n",
              "  </svg>\n",
              "    </button>\n",
              "\n",
              "  <style>\n",
              "    .colab-df-container {\n",
              "      display:flex;\n",
              "      gap: 12px;\n",
              "    }\n",
              "\n",
              "    .colab-df-convert {\n",
              "      background-color: #E8F0FE;\n",
              "      border: none;\n",
              "      border-radius: 50%;\n",
              "      cursor: pointer;\n",
              "      display: none;\n",
              "      fill: #1967D2;\n",
              "      height: 32px;\n",
              "      padding: 0 0 0 0;\n",
              "      width: 32px;\n",
              "    }\n",
              "\n",
              "    .colab-df-convert:hover {\n",
              "      background-color: #E2EBFA;\n",
              "      box-shadow: 0px 1px 2px rgba(60, 64, 67, 0.3), 0px 1px 3px 1px rgba(60, 64, 67, 0.15);\n",
              "      fill: #174EA6;\n",
              "    }\n",
              "\n",
              "    .colab-df-buttons div {\n",
              "      margin-bottom: 4px;\n",
              "    }\n",
              "\n",
              "    [theme=dark] .colab-df-convert {\n",
              "      background-color: #3B4455;\n",
              "      fill: #D2E3FC;\n",
              "    }\n",
              "\n",
              "    [theme=dark] .colab-df-convert:hover {\n",
              "      background-color: #434B5C;\n",
              "      box-shadow: 0px 1px 3px 1px rgba(0, 0, 0, 0.15);\n",
              "      filter: drop-shadow(0px 1px 2px rgba(0, 0, 0, 0.3));\n",
              "      fill: #FFFFFF;\n",
              "    }\n",
              "  </style>\n",
              "\n",
              "    <script>\n",
              "      const buttonEl =\n",
              "        document.querySelector('#df-15626e1d-937f-4726-87a9-5fcf6d3f058a button.colab-df-convert');\n",
              "      buttonEl.style.display =\n",
              "        google.colab.kernel.accessAllowed ? 'block' : 'none';\n",
              "\n",
              "      async function convertToInteractive(key) {\n",
              "        const element = document.querySelector('#df-15626e1d-937f-4726-87a9-5fcf6d3f058a');\n",
              "        const dataTable =\n",
              "          await google.colab.kernel.invokeFunction('convertToInteractive',\n",
              "                                                    [key], {});\n",
              "        if (!dataTable) return;\n",
              "\n",
              "        const docLinkHtml = 'Like what you see? Visit the ' +\n",
              "          '<a target=\"_blank\" href=https://colab.research.google.com/notebooks/data_table.ipynb>data table notebook</a>'\n",
              "          + ' to learn more about interactive tables.';\n",
              "        element.innerHTML = '';\n",
              "        dataTable['output_type'] = 'display_data';\n",
              "        await google.colab.output.renderOutput(dataTable, element);\n",
              "        const docLink = document.createElement('div');\n",
              "        docLink.innerHTML = docLinkHtml;\n",
              "        element.appendChild(docLink);\n",
              "      }\n",
              "    </script>\n",
              "  </div>\n",
              "\n",
              "\n",
              "<div id=\"df-9a625c06-2e37-4e72-9610-034f73571c25\">\n",
              "  <button class=\"colab-df-quickchart\" onclick=\"quickchart('df-9a625c06-2e37-4e72-9610-034f73571c25')\"\n",
              "            title=\"Suggest charts.\"\n",
              "            style=\"display:none;\">\n",
              "\n",
              "<svg xmlns=\"http://www.w3.org/2000/svg\" height=\"24px\"viewBox=\"0 0 24 24\"\n",
              "     width=\"24px\">\n",
              "    <g>\n",
              "        <path d=\"M19 3H5c-1.1 0-2 .9-2 2v14c0 1.1.9 2 2 2h14c1.1 0 2-.9 2-2V5c0-1.1-.9-2-2-2zM9 17H7v-7h2v7zm4 0h-2V7h2v10zm4 0h-2v-4h2v4z\"/>\n",
              "    </g>\n",
              "</svg>\n",
              "  </button>\n",
              "\n",
              "<style>\n",
              "  .colab-df-quickchart {\n",
              "      --bg-color: #E8F0FE;\n",
              "      --fill-color: #1967D2;\n",
              "      --hover-bg-color: #E2EBFA;\n",
              "      --hover-fill-color: #174EA6;\n",
              "      --disabled-fill-color: #AAA;\n",
              "      --disabled-bg-color: #DDD;\n",
              "  }\n",
              "\n",
              "  [theme=dark] .colab-df-quickchart {\n",
              "      --bg-color: #3B4455;\n",
              "      --fill-color: #D2E3FC;\n",
              "      --hover-bg-color: #434B5C;\n",
              "      --hover-fill-color: #FFFFFF;\n",
              "      --disabled-bg-color: #3B4455;\n",
              "      --disabled-fill-color: #666;\n",
              "  }\n",
              "\n",
              "  .colab-df-quickchart {\n",
              "    background-color: var(--bg-color);\n",
              "    border: none;\n",
              "    border-radius: 50%;\n",
              "    cursor: pointer;\n",
              "    display: none;\n",
              "    fill: var(--fill-color);\n",
              "    height: 32px;\n",
              "    padding: 0;\n",
              "    width: 32px;\n",
              "  }\n",
              "\n",
              "  .colab-df-quickchart:hover {\n",
              "    background-color: var(--hover-bg-color);\n",
              "    box-shadow: 0 1px 2px rgba(60, 64, 67, 0.3), 0 1px 3px 1px rgba(60, 64, 67, 0.15);\n",
              "    fill: var(--button-hover-fill-color);\n",
              "  }\n",
              "\n",
              "  .colab-df-quickchart-complete:disabled,\n",
              "  .colab-df-quickchart-complete:disabled:hover {\n",
              "    background-color: var(--disabled-bg-color);\n",
              "    fill: var(--disabled-fill-color);\n",
              "    box-shadow: none;\n",
              "  }\n",
              "\n",
              "  .colab-df-spinner {\n",
              "    border: 2px solid var(--fill-color);\n",
              "    border-color: transparent;\n",
              "    border-bottom-color: var(--fill-color);\n",
              "    animation:\n",
              "      spin 1s steps(1) infinite;\n",
              "  }\n",
              "\n",
              "  @keyframes spin {\n",
              "    0% {\n",
              "      border-color: transparent;\n",
              "      border-bottom-color: var(--fill-color);\n",
              "      border-left-color: var(--fill-color);\n",
              "    }\n",
              "    20% {\n",
              "      border-color: transparent;\n",
              "      border-left-color: var(--fill-color);\n",
              "      border-top-color: var(--fill-color);\n",
              "    }\n",
              "    30% {\n",
              "      border-color: transparent;\n",
              "      border-left-color: var(--fill-color);\n",
              "      border-top-color: var(--fill-color);\n",
              "      border-right-color: var(--fill-color);\n",
              "    }\n",
              "    40% {\n",
              "      border-color: transparent;\n",
              "      border-right-color: var(--fill-color);\n",
              "      border-top-color: var(--fill-color);\n",
              "    }\n",
              "    60% {\n",
              "      border-color: transparent;\n",
              "      border-right-color: var(--fill-color);\n",
              "    }\n",
              "    80% {\n",
              "      border-color: transparent;\n",
              "      border-right-color: var(--fill-color);\n",
              "      border-bottom-color: var(--fill-color);\n",
              "    }\n",
              "    90% {\n",
              "      border-color: transparent;\n",
              "      border-bottom-color: var(--fill-color);\n",
              "    }\n",
              "  }\n",
              "</style>\n",
              "\n",
              "  <script>\n",
              "    async function quickchart(key) {\n",
              "      const quickchartButtonEl =\n",
              "        document.querySelector('#' + key + ' button');\n",
              "      quickchartButtonEl.disabled = true;  // To prevent multiple clicks.\n",
              "      quickchartButtonEl.classList.add('colab-df-spinner');\n",
              "      try {\n",
              "        const charts = await google.colab.kernel.invokeFunction(\n",
              "            'suggestCharts', [key], {});\n",
              "      } catch (error) {\n",
              "        console.error('Error during call to suggestCharts:', error);\n",
              "      }\n",
              "      quickchartButtonEl.classList.remove('colab-df-spinner');\n",
              "      quickchartButtonEl.classList.add('colab-df-quickchart-complete');\n",
              "    }\n",
              "    (() => {\n",
              "      let quickchartButtonEl =\n",
              "        document.querySelector('#df-9a625c06-2e37-4e72-9610-034f73571c25 button');\n",
              "      quickchartButtonEl.style.display =\n",
              "        google.colab.kernel.accessAllowed ? 'block' : 'none';\n",
              "    })();\n",
              "  </script>\n",
              "</div>\n",
              "    </div>\n",
              "  </div>\n"
            ]
          },
          "metadata": {},
          "execution_count": 5
        }
      ],
      "source": [
        "df.head()"
      ]
    },
    {
      "cell_type": "code",
      "execution_count": null,
      "id": "6cafd93b",
      "metadata": {
        "id": "6cafd93b",
        "outputId": "0f227842-25a4-426d-d32c-2acead51374d",
        "colab": {
          "base_uri": "https://localhost:8080/",
          "height": 206
        }
      },
      "outputs": [
        {
          "output_type": "execute_result",
          "data": {
            "text/plain": [
              "            Timestamp   User_ID   Application_Type Signal_Strength Latency  \\\n",
              "395  09-03-2023 10:06  User_396          Streaming        -110 dBm   61 ms   \n",
              "396  09-03-2023 10:06  User_397         Video_Call         -40 dBm   53 ms   \n",
              "397  09-03-2023 10:06  User_398    Video_Streaming        -113 dBm   58 ms   \n",
              "398  09-03-2023 10:06  User_399  Emergency_Service         -40 dBm    5 ms   \n",
              "399  09-03-2023 10:06  User_400       Web_Browsing        -113 dBm    0 ms   \n",
              "\n",
              "    Required_Bandwidth Allocated_Bandwidth Resource_Allocation  \n",
              "395           1.3 Mbps            1.8 Mbps                 85%  \n",
              "396          14.5 Mbps           15.8 Mbps                 75%  \n",
              "397           1.0 Mbps            1.4 Mbps                 70%  \n",
              "398           0.4 Mbps            0.4 Mbps                 70%  \n",
              "399           0.1 Mbps            0.1 Mbps                 70%  "
            ],
            "text/html": [
              "\n",
              "  <div id=\"df-2976c4a8-9021-4d65-9074-081f83aff2a0\" class=\"colab-df-container\">\n",
              "    <div>\n",
              "<style scoped>\n",
              "    .dataframe tbody tr th:only-of-type {\n",
              "        vertical-align: middle;\n",
              "    }\n",
              "\n",
              "    .dataframe tbody tr th {\n",
              "        vertical-align: top;\n",
              "    }\n",
              "\n",
              "    .dataframe thead th {\n",
              "        text-align: right;\n",
              "    }\n",
              "</style>\n",
              "<table border=\"1\" class=\"dataframe\">\n",
              "  <thead>\n",
              "    <tr style=\"text-align: right;\">\n",
              "      <th></th>\n",
              "      <th>Timestamp</th>\n",
              "      <th>User_ID</th>\n",
              "      <th>Application_Type</th>\n",
              "      <th>Signal_Strength</th>\n",
              "      <th>Latency</th>\n",
              "      <th>Required_Bandwidth</th>\n",
              "      <th>Allocated_Bandwidth</th>\n",
              "      <th>Resource_Allocation</th>\n",
              "    </tr>\n",
              "  </thead>\n",
              "  <tbody>\n",
              "    <tr>\n",
              "      <th>395</th>\n",
              "      <td>09-03-2023 10:06</td>\n",
              "      <td>User_396</td>\n",
              "      <td>Streaming</td>\n",
              "      <td>-110 dBm</td>\n",
              "      <td>61 ms</td>\n",
              "      <td>1.3 Mbps</td>\n",
              "      <td>1.8 Mbps</td>\n",
              "      <td>85%</td>\n",
              "    </tr>\n",
              "    <tr>\n",
              "      <th>396</th>\n",
              "      <td>09-03-2023 10:06</td>\n",
              "      <td>User_397</td>\n",
              "      <td>Video_Call</td>\n",
              "      <td>-40 dBm</td>\n",
              "      <td>53 ms</td>\n",
              "      <td>14.5 Mbps</td>\n",
              "      <td>15.8 Mbps</td>\n",
              "      <td>75%</td>\n",
              "    </tr>\n",
              "    <tr>\n",
              "      <th>397</th>\n",
              "      <td>09-03-2023 10:06</td>\n",
              "      <td>User_398</td>\n",
              "      <td>Video_Streaming</td>\n",
              "      <td>-113 dBm</td>\n",
              "      <td>58 ms</td>\n",
              "      <td>1.0 Mbps</td>\n",
              "      <td>1.4 Mbps</td>\n",
              "      <td>70%</td>\n",
              "    </tr>\n",
              "    <tr>\n",
              "      <th>398</th>\n",
              "      <td>09-03-2023 10:06</td>\n",
              "      <td>User_399</td>\n",
              "      <td>Emergency_Service</td>\n",
              "      <td>-40 dBm</td>\n",
              "      <td>5 ms</td>\n",
              "      <td>0.4 Mbps</td>\n",
              "      <td>0.4 Mbps</td>\n",
              "      <td>70%</td>\n",
              "    </tr>\n",
              "    <tr>\n",
              "      <th>399</th>\n",
              "      <td>09-03-2023 10:06</td>\n",
              "      <td>User_400</td>\n",
              "      <td>Web_Browsing</td>\n",
              "      <td>-113 dBm</td>\n",
              "      <td>0 ms</td>\n",
              "      <td>0.1 Mbps</td>\n",
              "      <td>0.1 Mbps</td>\n",
              "      <td>70%</td>\n",
              "    </tr>\n",
              "  </tbody>\n",
              "</table>\n",
              "</div>\n",
              "    <div class=\"colab-df-buttons\">\n",
              "\n",
              "  <div class=\"colab-df-container\">\n",
              "    <button class=\"colab-df-convert\" onclick=\"convertToInteractive('df-2976c4a8-9021-4d65-9074-081f83aff2a0')\"\n",
              "            title=\"Convert this dataframe to an interactive table.\"\n",
              "            style=\"display:none;\">\n",
              "\n",
              "  <svg xmlns=\"http://www.w3.org/2000/svg\" height=\"24px\" viewBox=\"0 -960 960 960\">\n",
              "    <path d=\"M120-120v-720h720v720H120Zm60-500h600v-160H180v160Zm220 220h160v-160H400v160Zm0 220h160v-160H400v160ZM180-400h160v-160H180v160Zm440 0h160v-160H620v160ZM180-180h160v-160H180v160Zm440 0h160v-160H620v160Z\"/>\n",
              "  </svg>\n",
              "    </button>\n",
              "\n",
              "  <style>\n",
              "    .colab-df-container {\n",
              "      display:flex;\n",
              "      gap: 12px;\n",
              "    }\n",
              "\n",
              "    .colab-df-convert {\n",
              "      background-color: #E8F0FE;\n",
              "      border: none;\n",
              "      border-radius: 50%;\n",
              "      cursor: pointer;\n",
              "      display: none;\n",
              "      fill: #1967D2;\n",
              "      height: 32px;\n",
              "      padding: 0 0 0 0;\n",
              "      width: 32px;\n",
              "    }\n",
              "\n",
              "    .colab-df-convert:hover {\n",
              "      background-color: #E2EBFA;\n",
              "      box-shadow: 0px 1px 2px rgba(60, 64, 67, 0.3), 0px 1px 3px 1px rgba(60, 64, 67, 0.15);\n",
              "      fill: #174EA6;\n",
              "    }\n",
              "\n",
              "    .colab-df-buttons div {\n",
              "      margin-bottom: 4px;\n",
              "    }\n",
              "\n",
              "    [theme=dark] .colab-df-convert {\n",
              "      background-color: #3B4455;\n",
              "      fill: #D2E3FC;\n",
              "    }\n",
              "\n",
              "    [theme=dark] .colab-df-convert:hover {\n",
              "      background-color: #434B5C;\n",
              "      box-shadow: 0px 1px 3px 1px rgba(0, 0, 0, 0.15);\n",
              "      filter: drop-shadow(0px 1px 2px rgba(0, 0, 0, 0.3));\n",
              "      fill: #FFFFFF;\n",
              "    }\n",
              "  </style>\n",
              "\n",
              "    <script>\n",
              "      const buttonEl =\n",
              "        document.querySelector('#df-2976c4a8-9021-4d65-9074-081f83aff2a0 button.colab-df-convert');\n",
              "      buttonEl.style.display =\n",
              "        google.colab.kernel.accessAllowed ? 'block' : 'none';\n",
              "\n",
              "      async function convertToInteractive(key) {\n",
              "        const element = document.querySelector('#df-2976c4a8-9021-4d65-9074-081f83aff2a0');\n",
              "        const dataTable =\n",
              "          await google.colab.kernel.invokeFunction('convertToInteractive',\n",
              "                                                    [key], {});\n",
              "        if (!dataTable) return;\n",
              "\n",
              "        const docLinkHtml = 'Like what you see? Visit the ' +\n",
              "          '<a target=\"_blank\" href=https://colab.research.google.com/notebooks/data_table.ipynb>data table notebook</a>'\n",
              "          + ' to learn more about interactive tables.';\n",
              "        element.innerHTML = '';\n",
              "        dataTable['output_type'] = 'display_data';\n",
              "        await google.colab.output.renderOutput(dataTable, element);\n",
              "        const docLink = document.createElement('div');\n",
              "        docLink.innerHTML = docLinkHtml;\n",
              "        element.appendChild(docLink);\n",
              "      }\n",
              "    </script>\n",
              "  </div>\n",
              "\n",
              "\n",
              "<div id=\"df-be7aa328-faf2-473f-8b66-6a2f6fb0f1a2\">\n",
              "  <button class=\"colab-df-quickchart\" onclick=\"quickchart('df-be7aa328-faf2-473f-8b66-6a2f6fb0f1a2')\"\n",
              "            title=\"Suggest charts.\"\n",
              "            style=\"display:none;\">\n",
              "\n",
              "<svg xmlns=\"http://www.w3.org/2000/svg\" height=\"24px\"viewBox=\"0 0 24 24\"\n",
              "     width=\"24px\">\n",
              "    <g>\n",
              "        <path d=\"M19 3H5c-1.1 0-2 .9-2 2v14c0 1.1.9 2 2 2h14c1.1 0 2-.9 2-2V5c0-1.1-.9-2-2-2zM9 17H7v-7h2v7zm4 0h-2V7h2v10zm4 0h-2v-4h2v4z\"/>\n",
              "    </g>\n",
              "</svg>\n",
              "  </button>\n",
              "\n",
              "<style>\n",
              "  .colab-df-quickchart {\n",
              "      --bg-color: #E8F0FE;\n",
              "      --fill-color: #1967D2;\n",
              "      --hover-bg-color: #E2EBFA;\n",
              "      --hover-fill-color: #174EA6;\n",
              "      --disabled-fill-color: #AAA;\n",
              "      --disabled-bg-color: #DDD;\n",
              "  }\n",
              "\n",
              "  [theme=dark] .colab-df-quickchart {\n",
              "      --bg-color: #3B4455;\n",
              "      --fill-color: #D2E3FC;\n",
              "      --hover-bg-color: #434B5C;\n",
              "      --hover-fill-color: #FFFFFF;\n",
              "      --disabled-bg-color: #3B4455;\n",
              "      --disabled-fill-color: #666;\n",
              "  }\n",
              "\n",
              "  .colab-df-quickchart {\n",
              "    background-color: var(--bg-color);\n",
              "    border: none;\n",
              "    border-radius: 50%;\n",
              "    cursor: pointer;\n",
              "    display: none;\n",
              "    fill: var(--fill-color);\n",
              "    height: 32px;\n",
              "    padding: 0;\n",
              "    width: 32px;\n",
              "  }\n",
              "\n",
              "  .colab-df-quickchart:hover {\n",
              "    background-color: var(--hover-bg-color);\n",
              "    box-shadow: 0 1px 2px rgba(60, 64, 67, 0.3), 0 1px 3px 1px rgba(60, 64, 67, 0.15);\n",
              "    fill: var(--button-hover-fill-color);\n",
              "  }\n",
              "\n",
              "  .colab-df-quickchart-complete:disabled,\n",
              "  .colab-df-quickchart-complete:disabled:hover {\n",
              "    background-color: var(--disabled-bg-color);\n",
              "    fill: var(--disabled-fill-color);\n",
              "    box-shadow: none;\n",
              "  }\n",
              "\n",
              "  .colab-df-spinner {\n",
              "    border: 2px solid var(--fill-color);\n",
              "    border-color: transparent;\n",
              "    border-bottom-color: var(--fill-color);\n",
              "    animation:\n",
              "      spin 1s steps(1) infinite;\n",
              "  }\n",
              "\n",
              "  @keyframes spin {\n",
              "    0% {\n",
              "      border-color: transparent;\n",
              "      border-bottom-color: var(--fill-color);\n",
              "      border-left-color: var(--fill-color);\n",
              "    }\n",
              "    20% {\n",
              "      border-color: transparent;\n",
              "      border-left-color: var(--fill-color);\n",
              "      border-top-color: var(--fill-color);\n",
              "    }\n",
              "    30% {\n",
              "      border-color: transparent;\n",
              "      border-left-color: var(--fill-color);\n",
              "      border-top-color: var(--fill-color);\n",
              "      border-right-color: var(--fill-color);\n",
              "    }\n",
              "    40% {\n",
              "      border-color: transparent;\n",
              "      border-right-color: var(--fill-color);\n",
              "      border-top-color: var(--fill-color);\n",
              "    }\n",
              "    60% {\n",
              "      border-color: transparent;\n",
              "      border-right-color: var(--fill-color);\n",
              "    }\n",
              "    80% {\n",
              "      border-color: transparent;\n",
              "      border-right-color: var(--fill-color);\n",
              "      border-bottom-color: var(--fill-color);\n",
              "    }\n",
              "    90% {\n",
              "      border-color: transparent;\n",
              "      border-bottom-color: var(--fill-color);\n",
              "    }\n",
              "  }\n",
              "</style>\n",
              "\n",
              "  <script>\n",
              "    async function quickchart(key) {\n",
              "      const quickchartButtonEl =\n",
              "        document.querySelector('#' + key + ' button');\n",
              "      quickchartButtonEl.disabled = true;  // To prevent multiple clicks.\n",
              "      quickchartButtonEl.classList.add('colab-df-spinner');\n",
              "      try {\n",
              "        const charts = await google.colab.kernel.invokeFunction(\n",
              "            'suggestCharts', [key], {});\n",
              "      } catch (error) {\n",
              "        console.error('Error during call to suggestCharts:', error);\n",
              "      }\n",
              "      quickchartButtonEl.classList.remove('colab-df-spinner');\n",
              "      quickchartButtonEl.classList.add('colab-df-quickchart-complete');\n",
              "    }\n",
              "    (() => {\n",
              "      let quickchartButtonEl =\n",
              "        document.querySelector('#df-be7aa328-faf2-473f-8b66-6a2f6fb0f1a2 button');\n",
              "      quickchartButtonEl.style.display =\n",
              "        google.colab.kernel.accessAllowed ? 'block' : 'none';\n",
              "    })();\n",
              "  </script>\n",
              "</div>\n",
              "    </div>\n",
              "  </div>\n"
            ]
          },
          "metadata": {},
          "execution_count": 6
        }
      ],
      "source": [
        "df.tail()"
      ]
    },
    {
      "cell_type": "code",
      "execution_count": null,
      "id": "a315ba9e",
      "metadata": {
        "id": "a315ba9e",
        "outputId": "14bd2b78-3bc1-498b-ef46-5ebdb3125ed0",
        "colab": {
          "base_uri": "https://localhost:8080/"
        }
      },
      "outputs": [
        {
          "output_type": "execute_result",
          "data": {
            "text/plain": [
              "(400, 8)"
            ]
          },
          "metadata": {},
          "execution_count": 7
        }
      ],
      "source": [
        "df.shape"
      ]
    },
    {
      "cell_type": "code",
      "execution_count": null,
      "id": "c721cdb0",
      "metadata": {
        "id": "c721cdb0",
        "outputId": "2c42fb7c-8ef8-4af4-b7ac-967b36c79b18",
        "colab": {
          "base_uri": "https://localhost:8080/"
        }
      },
      "outputs": [
        {
          "output_type": "execute_result",
          "data": {
            "text/plain": [
              "Index(['Timestamp', 'User_ID', 'Application_Type', 'Signal_Strength',\n",
              "       'Latency', 'Required_Bandwidth', 'Allocated_Bandwidth',\n",
              "       'Resource_Allocation'],\n",
              "      dtype='object')"
            ]
          },
          "metadata": {},
          "execution_count": 8
        }
      ],
      "source": [
        "df.columns"
      ]
    },
    {
      "cell_type": "code",
      "execution_count": null,
      "id": "34cbc22b",
      "metadata": {
        "id": "34cbc22b",
        "outputId": "33213109-00ee-473f-b09d-d25977dd080d",
        "colab": {
          "base_uri": "https://localhost:8080/"
        }
      },
      "outputs": [
        {
          "output_type": "execute_result",
          "data": {
            "text/plain": [
              "0"
            ]
          },
          "metadata": {},
          "execution_count": 9
        }
      ],
      "source": [
        "df.duplicated().sum()"
      ]
    },
    {
      "cell_type": "code",
      "execution_count": null,
      "id": "bfa5d698",
      "metadata": {
        "id": "bfa5d698",
        "outputId": "f418c7c7-0dc6-443e-f85f-f216af88379a",
        "colab": {
          "base_uri": "https://localhost:8080/"
        }
      },
      "outputs": [
        {
          "output_type": "execute_result",
          "data": {
            "text/plain": [
              "Timestamp              0\n",
              "User_ID                0\n",
              "Application_Type       0\n",
              "Signal_Strength        0\n",
              "Latency                0\n",
              "Required_Bandwidth     0\n",
              "Allocated_Bandwidth    0\n",
              "Resource_Allocation    0\n",
              "dtype: int64"
            ]
          },
          "metadata": {},
          "execution_count": 10
        }
      ],
      "source": [
        "df.isnull().sum()"
      ]
    },
    {
      "cell_type": "code",
      "execution_count": null,
      "id": "80dba740",
      "metadata": {
        "id": "80dba740",
        "outputId": "e051f2f8-debd-4757-d4f3-395c85171126",
        "colab": {
          "base_uri": "https://localhost:8080/"
        }
      },
      "outputs": [
        {
          "output_type": "stream",
          "name": "stdout",
          "text": [
            "<class 'pandas.core.frame.DataFrame'>\n",
            "RangeIndex: 400 entries, 0 to 399\n",
            "Data columns (total 8 columns):\n",
            " #   Column               Non-Null Count  Dtype \n",
            "---  ------               --------------  ----- \n",
            " 0   Timestamp            400 non-null    object\n",
            " 1   User_ID              400 non-null    object\n",
            " 2   Application_Type     400 non-null    object\n",
            " 3   Signal_Strength      400 non-null    object\n",
            " 4   Latency              400 non-null    object\n",
            " 5   Required_Bandwidth   400 non-null    object\n",
            " 6   Allocated_Bandwidth  400 non-null    object\n",
            " 7   Resource_Allocation  400 non-null    object\n",
            "dtypes: object(8)\n",
            "memory usage: 25.1+ KB\n"
          ]
        }
      ],
      "source": [
        "df.info()"
      ]
    },
    {
      "cell_type": "code",
      "execution_count": null,
      "id": "c7ba2c3c",
      "metadata": {
        "id": "c7ba2c3c",
        "outputId": "96528f12-fa32-4873-c1bb-1618495d0ec9",
        "colab": {
          "base_uri": "https://localhost:8080/"
        }
      },
      "outputs": [
        {
          "output_type": "execute_result",
          "data": {
            "text/plain": [
              "Timestamp                7\n",
              "User_ID                400\n",
              "Application_Type        11\n",
              "Signal_Strength         84\n",
              "Latency                 87\n",
              "Required_Bandwidth     188\n",
              "Allocated_Bandwidth    194\n",
              "Resource_Allocation      9\n",
              "dtype: int64"
            ]
          },
          "metadata": {},
          "execution_count": 12
        }
      ],
      "source": [
        "df.nunique()"
      ]
    },
    {
      "cell_type": "code",
      "execution_count": null,
      "id": "89669b83",
      "metadata": {
        "id": "89669b83"
      },
      "outputs": [],
      "source": [
        "df['Timestamp'] = pd.to_datetime(df['Timestamp'])"
      ]
    },
    {
      "cell_type": "code",
      "execution_count": null,
      "id": "3cd9f7c5",
      "metadata": {
        "id": "3cd9f7c5"
      },
      "outputs": [],
      "source": [
        "df['Signal_Strength'] = df['Signal_Strength'].str.replace(' dBm', '').astype(float)\n",
        "df['Latency'] = df['Latency'].str.replace(' ms', '').astype(float)\n",
        "df['Required_Bandwidth'] = df['Required_Bandwidth'].str.replace(' Mbps', '').str.replace(' Kbps', 'e-3').astype(float)\n",
        "df['Allocated_Bandwidth'] = df['Allocated_Bandwidth'].str.replace(' Mbps', '').str.replace(' Kbps', 'e-3').astype(float)\n",
        "df['Resource_Allocation'] = df['Resource_Allocation'].str.rstrip('%').astype(float) / 100"
      ]
    },
    {
      "cell_type": "code",
      "execution_count": null,
      "id": "e3ec593e",
      "metadata": {
        "id": "e3ec593e",
        "outputId": "c1d0ea84-2366-4855-da5d-6bb6f23227e9",
        "colab": {
          "base_uri": "https://localhost:8080/"
        }
      },
      "outputs": [
        {
          "output_type": "stream",
          "name": "stdout",
          "text": [
            "Missing Values:\n",
            "Timestamp              0\n",
            "User_ID                0\n",
            "Application_Type       0\n",
            "Signal_Strength        0\n",
            "Latency                0\n",
            "Required_Bandwidth     0\n",
            "Allocated_Bandwidth    0\n",
            "Resource_Allocation    0\n",
            "dtype: int64\n"
          ]
        }
      ],
      "source": [
        "missing_values = df.isnull().sum()\n",
        "print(\"Missing Values:\")\n",
        "print(missing_values)"
      ]
    },
    {
      "cell_type": "code",
      "execution_count": null,
      "id": "378a4c17",
      "metadata": {
        "id": "378a4c17",
        "outputId": "e96a49eb-7d5c-4225-e43c-fbcbc0c26a6c",
        "colab": {
          "base_uri": "https://localhost:8080/"
        }
      },
      "outputs": [
        {
          "output_type": "stream",
          "name": "stdout",
          "text": [
            "<class 'pandas.core.frame.DataFrame'>\n",
            "RangeIndex: 400 entries, 0 to 399\n",
            "Data columns (total 8 columns):\n",
            " #   Column               Non-Null Count  Dtype         \n",
            "---  ------               --------------  -----         \n",
            " 0   Timestamp            400 non-null    datetime64[ns]\n",
            " 1   User_ID              400 non-null    object        \n",
            " 2   Application_Type     400 non-null    object        \n",
            " 3   Signal_Strength      400 non-null    float64       \n",
            " 4   Latency              400 non-null    float64       \n",
            " 5   Required_Bandwidth   400 non-null    float64       \n",
            " 6   Allocated_Bandwidth  400 non-null    float64       \n",
            " 7   Resource_Allocation  400 non-null    float64       \n",
            "dtypes: datetime64[ns](1), float64(5), object(2)\n",
            "memory usage: 25.1+ KB\n"
          ]
        }
      ],
      "source": [
        "df.info()"
      ]
    },
    {
      "cell_type": "code",
      "execution_count": null,
      "id": "86a76e81",
      "metadata": {
        "id": "86a76e81",
        "outputId": "f342f0f2-4ba2-4e62-d622-82508f9b5969",
        "colab": {
          "base_uri": "https://localhost:8080/",
          "height": 300
        }
      },
      "outputs": [
        {
          "output_type": "execute_result",
          "data": {
            "text/plain": [
              "       Signal_Strength     Latency  Required_Bandwidth  Allocated_Bandwidth  \\\n",
              "count       400.000000  400.000000          400.000000           400.000000   \n",
              "mean        -80.495000   33.825000            3.135512             3.502380   \n",
              "std          20.701119   21.122139            3.984097             4.460801   \n",
              "min        -123.000000    0.000000            0.000000             0.000000   \n",
              "25%         -98.000000   21.750000            0.417500             0.417500   \n",
              "50%         -83.000000   31.000000            1.200000             1.350000   \n",
              "75%         -64.000000   45.000000            4.100000             4.425000   \n",
              "max         -40.000000  110.000000           14.500000            15.800000   \n",
              "\n",
              "       Resource_Allocation  \n",
              "count           400.000000  \n",
              "mean              0.747125  \n",
              "std               0.089823  \n",
              "min               0.500000  \n",
              "25%               0.700000  \n",
              "50%               0.700000  \n",
              "75%               0.800000  \n",
              "max               0.900000  "
            ],
            "text/html": [
              "\n",
              "  <div id=\"df-91e17c29-f982-45e1-b4c8-b72373d837fe\" class=\"colab-df-container\">\n",
              "    <div>\n",
              "<style scoped>\n",
              "    .dataframe tbody tr th:only-of-type {\n",
              "        vertical-align: middle;\n",
              "    }\n",
              "\n",
              "    .dataframe tbody tr th {\n",
              "        vertical-align: top;\n",
              "    }\n",
              "\n",
              "    .dataframe thead th {\n",
              "        text-align: right;\n",
              "    }\n",
              "</style>\n",
              "<table border=\"1\" class=\"dataframe\">\n",
              "  <thead>\n",
              "    <tr style=\"text-align: right;\">\n",
              "      <th></th>\n",
              "      <th>Signal_Strength</th>\n",
              "      <th>Latency</th>\n",
              "      <th>Required_Bandwidth</th>\n",
              "      <th>Allocated_Bandwidth</th>\n",
              "      <th>Resource_Allocation</th>\n",
              "    </tr>\n",
              "  </thead>\n",
              "  <tbody>\n",
              "    <tr>\n",
              "      <th>count</th>\n",
              "      <td>400.000000</td>\n",
              "      <td>400.000000</td>\n",
              "      <td>400.000000</td>\n",
              "      <td>400.000000</td>\n",
              "      <td>400.000000</td>\n",
              "    </tr>\n",
              "    <tr>\n",
              "      <th>mean</th>\n",
              "      <td>-80.495000</td>\n",
              "      <td>33.825000</td>\n",
              "      <td>3.135512</td>\n",
              "      <td>3.502380</td>\n",
              "      <td>0.747125</td>\n",
              "    </tr>\n",
              "    <tr>\n",
              "      <th>std</th>\n",
              "      <td>20.701119</td>\n",
              "      <td>21.122139</td>\n",
              "      <td>3.984097</td>\n",
              "      <td>4.460801</td>\n",
              "      <td>0.089823</td>\n",
              "    </tr>\n",
              "    <tr>\n",
              "      <th>min</th>\n",
              "      <td>-123.000000</td>\n",
              "      <td>0.000000</td>\n",
              "      <td>0.000000</td>\n",
              "      <td>0.000000</td>\n",
              "      <td>0.500000</td>\n",
              "    </tr>\n",
              "    <tr>\n",
              "      <th>25%</th>\n",
              "      <td>-98.000000</td>\n",
              "      <td>21.750000</td>\n",
              "      <td>0.417500</td>\n",
              "      <td>0.417500</td>\n",
              "      <td>0.700000</td>\n",
              "    </tr>\n",
              "    <tr>\n",
              "      <th>50%</th>\n",
              "      <td>-83.000000</td>\n",
              "      <td>31.000000</td>\n",
              "      <td>1.200000</td>\n",
              "      <td>1.350000</td>\n",
              "      <td>0.700000</td>\n",
              "    </tr>\n",
              "    <tr>\n",
              "      <th>75%</th>\n",
              "      <td>-64.000000</td>\n",
              "      <td>45.000000</td>\n",
              "      <td>4.100000</td>\n",
              "      <td>4.425000</td>\n",
              "      <td>0.800000</td>\n",
              "    </tr>\n",
              "    <tr>\n",
              "      <th>max</th>\n",
              "      <td>-40.000000</td>\n",
              "      <td>110.000000</td>\n",
              "      <td>14.500000</td>\n",
              "      <td>15.800000</td>\n",
              "      <td>0.900000</td>\n",
              "    </tr>\n",
              "  </tbody>\n",
              "</table>\n",
              "</div>\n",
              "    <div class=\"colab-df-buttons\">\n",
              "\n",
              "  <div class=\"colab-df-container\">\n",
              "    <button class=\"colab-df-convert\" onclick=\"convertToInteractive('df-91e17c29-f982-45e1-b4c8-b72373d837fe')\"\n",
              "            title=\"Convert this dataframe to an interactive table.\"\n",
              "            style=\"display:none;\">\n",
              "\n",
              "  <svg xmlns=\"http://www.w3.org/2000/svg\" height=\"24px\" viewBox=\"0 -960 960 960\">\n",
              "    <path d=\"M120-120v-720h720v720H120Zm60-500h600v-160H180v160Zm220 220h160v-160H400v160Zm0 220h160v-160H400v160ZM180-400h160v-160H180v160Zm440 0h160v-160H620v160ZM180-180h160v-160H180v160Zm440 0h160v-160H620v160Z\"/>\n",
              "  </svg>\n",
              "    </button>\n",
              "\n",
              "  <style>\n",
              "    .colab-df-container {\n",
              "      display:flex;\n",
              "      gap: 12px;\n",
              "    }\n",
              "\n",
              "    .colab-df-convert {\n",
              "      background-color: #E8F0FE;\n",
              "      border: none;\n",
              "      border-radius: 50%;\n",
              "      cursor: pointer;\n",
              "      display: none;\n",
              "      fill: #1967D2;\n",
              "      height: 32px;\n",
              "      padding: 0 0 0 0;\n",
              "      width: 32px;\n",
              "    }\n",
              "\n",
              "    .colab-df-convert:hover {\n",
              "      background-color: #E2EBFA;\n",
              "      box-shadow: 0px 1px 2px rgba(60, 64, 67, 0.3), 0px 1px 3px 1px rgba(60, 64, 67, 0.15);\n",
              "      fill: #174EA6;\n",
              "    }\n",
              "\n",
              "    .colab-df-buttons div {\n",
              "      margin-bottom: 4px;\n",
              "    }\n",
              "\n",
              "    [theme=dark] .colab-df-convert {\n",
              "      background-color: #3B4455;\n",
              "      fill: #D2E3FC;\n",
              "    }\n",
              "\n",
              "    [theme=dark] .colab-df-convert:hover {\n",
              "      background-color: #434B5C;\n",
              "      box-shadow: 0px 1px 3px 1px rgba(0, 0, 0, 0.15);\n",
              "      filter: drop-shadow(0px 1px 2px rgba(0, 0, 0, 0.3));\n",
              "      fill: #FFFFFF;\n",
              "    }\n",
              "  </style>\n",
              "\n",
              "    <script>\n",
              "      const buttonEl =\n",
              "        document.querySelector('#df-91e17c29-f982-45e1-b4c8-b72373d837fe button.colab-df-convert');\n",
              "      buttonEl.style.display =\n",
              "        google.colab.kernel.accessAllowed ? 'block' : 'none';\n",
              "\n",
              "      async function convertToInteractive(key) {\n",
              "        const element = document.querySelector('#df-91e17c29-f982-45e1-b4c8-b72373d837fe');\n",
              "        const dataTable =\n",
              "          await google.colab.kernel.invokeFunction('convertToInteractive',\n",
              "                                                    [key], {});\n",
              "        if (!dataTable) return;\n",
              "\n",
              "        const docLinkHtml = 'Like what you see? Visit the ' +\n",
              "          '<a target=\"_blank\" href=https://colab.research.google.com/notebooks/data_table.ipynb>data table notebook</a>'\n",
              "          + ' to learn more about interactive tables.';\n",
              "        element.innerHTML = '';\n",
              "        dataTable['output_type'] = 'display_data';\n",
              "        await google.colab.output.renderOutput(dataTable, element);\n",
              "        const docLink = document.createElement('div');\n",
              "        docLink.innerHTML = docLinkHtml;\n",
              "        element.appendChild(docLink);\n",
              "      }\n",
              "    </script>\n",
              "  </div>\n",
              "\n",
              "\n",
              "<div id=\"df-5650e373-3725-42de-9538-3fa6005c838e\">\n",
              "  <button class=\"colab-df-quickchart\" onclick=\"quickchart('df-5650e373-3725-42de-9538-3fa6005c838e')\"\n",
              "            title=\"Suggest charts.\"\n",
              "            style=\"display:none;\">\n",
              "\n",
              "<svg xmlns=\"http://www.w3.org/2000/svg\" height=\"24px\"viewBox=\"0 0 24 24\"\n",
              "     width=\"24px\">\n",
              "    <g>\n",
              "        <path d=\"M19 3H5c-1.1 0-2 .9-2 2v14c0 1.1.9 2 2 2h14c1.1 0 2-.9 2-2V5c0-1.1-.9-2-2-2zM9 17H7v-7h2v7zm4 0h-2V7h2v10zm4 0h-2v-4h2v4z\"/>\n",
              "    </g>\n",
              "</svg>\n",
              "  </button>\n",
              "\n",
              "<style>\n",
              "  .colab-df-quickchart {\n",
              "      --bg-color: #E8F0FE;\n",
              "      --fill-color: #1967D2;\n",
              "      --hover-bg-color: #E2EBFA;\n",
              "      --hover-fill-color: #174EA6;\n",
              "      --disabled-fill-color: #AAA;\n",
              "      --disabled-bg-color: #DDD;\n",
              "  }\n",
              "\n",
              "  [theme=dark] .colab-df-quickchart {\n",
              "      --bg-color: #3B4455;\n",
              "      --fill-color: #D2E3FC;\n",
              "      --hover-bg-color: #434B5C;\n",
              "      --hover-fill-color: #FFFFFF;\n",
              "      --disabled-bg-color: #3B4455;\n",
              "      --disabled-fill-color: #666;\n",
              "  }\n",
              "\n",
              "  .colab-df-quickchart {\n",
              "    background-color: var(--bg-color);\n",
              "    border: none;\n",
              "    border-radius: 50%;\n",
              "    cursor: pointer;\n",
              "    display: none;\n",
              "    fill: var(--fill-color);\n",
              "    height: 32px;\n",
              "    padding: 0;\n",
              "    width: 32px;\n",
              "  }\n",
              "\n",
              "  .colab-df-quickchart:hover {\n",
              "    background-color: var(--hover-bg-color);\n",
              "    box-shadow: 0 1px 2px rgba(60, 64, 67, 0.3), 0 1px 3px 1px rgba(60, 64, 67, 0.15);\n",
              "    fill: var(--button-hover-fill-color);\n",
              "  }\n",
              "\n",
              "  .colab-df-quickchart-complete:disabled,\n",
              "  .colab-df-quickchart-complete:disabled:hover {\n",
              "    background-color: var(--disabled-bg-color);\n",
              "    fill: var(--disabled-fill-color);\n",
              "    box-shadow: none;\n",
              "  }\n",
              "\n",
              "  .colab-df-spinner {\n",
              "    border: 2px solid var(--fill-color);\n",
              "    border-color: transparent;\n",
              "    border-bottom-color: var(--fill-color);\n",
              "    animation:\n",
              "      spin 1s steps(1) infinite;\n",
              "  }\n",
              "\n",
              "  @keyframes spin {\n",
              "    0% {\n",
              "      border-color: transparent;\n",
              "      border-bottom-color: var(--fill-color);\n",
              "      border-left-color: var(--fill-color);\n",
              "    }\n",
              "    20% {\n",
              "      border-color: transparent;\n",
              "      border-left-color: var(--fill-color);\n",
              "      border-top-color: var(--fill-color);\n",
              "    }\n",
              "    30% {\n",
              "      border-color: transparent;\n",
              "      border-left-color: var(--fill-color);\n",
              "      border-top-color: var(--fill-color);\n",
              "      border-right-color: var(--fill-color);\n",
              "    }\n",
              "    40% {\n",
              "      border-color: transparent;\n",
              "      border-right-color: var(--fill-color);\n",
              "      border-top-color: var(--fill-color);\n",
              "    }\n",
              "    60% {\n",
              "      border-color: transparent;\n",
              "      border-right-color: var(--fill-color);\n",
              "    }\n",
              "    80% {\n",
              "      border-color: transparent;\n",
              "      border-right-color: var(--fill-color);\n",
              "      border-bottom-color: var(--fill-color);\n",
              "    }\n",
              "    90% {\n",
              "      border-color: transparent;\n",
              "      border-bottom-color: var(--fill-color);\n",
              "    }\n",
              "  }\n",
              "</style>\n",
              "\n",
              "  <script>\n",
              "    async function quickchart(key) {\n",
              "      const quickchartButtonEl =\n",
              "        document.querySelector('#' + key + ' button');\n",
              "      quickchartButtonEl.disabled = true;  // To prevent multiple clicks.\n",
              "      quickchartButtonEl.classList.add('colab-df-spinner');\n",
              "      try {\n",
              "        const charts = await google.colab.kernel.invokeFunction(\n",
              "            'suggestCharts', [key], {});\n",
              "      } catch (error) {\n",
              "        console.error('Error during call to suggestCharts:', error);\n",
              "      }\n",
              "      quickchartButtonEl.classList.remove('colab-df-spinner');\n",
              "      quickchartButtonEl.classList.add('colab-df-quickchart-complete');\n",
              "    }\n",
              "    (() => {\n",
              "      let quickchartButtonEl =\n",
              "        document.querySelector('#df-5650e373-3725-42de-9538-3fa6005c838e button');\n",
              "      quickchartButtonEl.style.display =\n",
              "        google.colab.kernel.accessAllowed ? 'block' : 'none';\n",
              "    })();\n",
              "  </script>\n",
              "</div>\n",
              "    </div>\n",
              "  </div>\n"
            ]
          },
          "metadata": {},
          "execution_count": 17
        }
      ],
      "source": [
        "df.describe()"
      ]
    },
    {
      "cell_type": "code",
      "execution_count": null,
      "id": "e1e683dd",
      "metadata": {
        "id": "e1e683dd",
        "outputId": "bcd150a6-fd85-4ad5-f199-b85c9d95901c",
        "colab": {
          "base_uri": "https://localhost:8080/"
        }
      },
      "outputs": [
        {
          "output_type": "stream",
          "name": "stdout",
          "text": [
            "Object columns: ['User_ID', 'Application_Type']\n",
            "Numerical columns: ['Signal_Strength', 'Latency', 'Required_Bandwidth', 'Allocated_Bandwidth', 'Resource_Allocation']\n"
          ]
        }
      ],
      "source": [
        "object_columns = df.select_dtypes(include='object').columns.tolist()\n",
        "numerical_columns = df.select_dtypes(include=['int', 'float']).columns.tolist()\n",
        "\n",
        "print(\"Object columns:\", object_columns)\n",
        "print(\"Numerical columns:\", numerical_columns)"
      ]
    },
    {
      "cell_type": "code",
      "execution_count": null,
      "id": "5fc094ca",
      "metadata": {
        "id": "5fc094ca",
        "outputId": "19895175-150c-412a-e007-3b09774033e9",
        "colab": {
          "base_uri": "https://localhost:8080/"
        }
      },
      "outputs": [
        {
          "output_type": "execute_result",
          "data": {
            "text/plain": [
              "array(['Video_Call', 'Voice_Call', 'Streaming', 'Emergency_Service',\n",
              "       'Online_Gaming', 'Background_Download', 'Web_Browsing',\n",
              "       'IoT_Temperature', 'Video_Streaming', 'File_Download', 'VoIP_Call'],\n",
              "      dtype=object)"
            ]
          },
          "metadata": {},
          "execution_count": 19
        }
      ],
      "source": [
        "df['Application_Type'].unique()"
      ]
    },
    {
      "cell_type": "code",
      "execution_count": null,
      "id": "c9d8902b",
      "metadata": {
        "id": "c9d8902b",
        "outputId": "d2f3d7d2-9181-4e89-ee8d-909a36cf2735",
        "colab": {
          "base_uri": "https://localhost:8080/"
        }
      },
      "outputs": [
        {
          "output_type": "execute_result",
          "data": {
            "text/plain": [
              "Video_Call             58\n",
              "Web_Browsing           48\n",
              "Streaming              47\n",
              "Emergency_Service      47\n",
              "Background_Download    47\n",
              "Video_Streaming        47\n",
              "VoIP_Call              46\n",
              "Online_Gaming          45\n",
              "IoT_Temperature        13\n",
              "Voice_Call              1\n",
              "File_Download           1\n",
              "Name: Application_Type, dtype: int64"
            ]
          },
          "metadata": {},
          "execution_count": 20
        }
      ],
      "source": [
        "df['Application_Type'].value_counts()"
      ]
    },
    {
      "cell_type": "code",
      "execution_count": null,
      "id": "ea315eab",
      "metadata": {
        "id": "ea315eab",
        "outputId": "4d0d6352-47c3-466f-d309-778a8d0f9e13",
        "colab": {
          "base_uri": "https://localhost:8080/",
          "height": 299
        }
      },
      "outputs": [
        {
          "output_type": "stream",
          "name": "stdout",
          "text": [
            "Countplot for: Application Type\n"
          ]
        },
        {
          "output_type": "error",
          "ename": "TypeError",
          "evalue": "ignored",
          "traceback": [
            "\u001b[0;31m---------------------------------------------------------------------------\u001b[0m",
            "\u001b[0;31mTypeError\u001b[0m                                 Traceback (most recent call last)",
            "\u001b[0;32m<ipython-input-21-f790be3cd365>\u001b[0m in \u001b[0;36m<cell line: 3>\u001b[0;34m()\u001b[0m\n\u001b[1;32m      1\u001b[0m \u001b[0mprint\u001b[0m\u001b[0;34m(\u001b[0m\u001b[0;34m'Countplot for:'\u001b[0m\u001b[0;34m,\u001b[0m \u001b[0;34m'Application Type'\u001b[0m\u001b[0;34m)\u001b[0m\u001b[0;34m\u001b[0m\u001b[0;34m\u001b[0m\u001b[0m\n\u001b[1;32m      2\u001b[0m \u001b[0mplt\u001b[0m\u001b[0;34m.\u001b[0m\u001b[0mfigure\u001b[0m\u001b[0;34m(\u001b[0m\u001b[0mfigsize\u001b[0m\u001b[0;34m=\u001b[0m\u001b[0;34m(\u001b[0m\u001b[0;36m15\u001b[0m\u001b[0;34m,\u001b[0m\u001b[0;36m6\u001b[0m\u001b[0;34m)\u001b[0m\u001b[0;34m)\u001b[0m\u001b[0;34m\u001b[0m\u001b[0;34m\u001b[0m\u001b[0m\n\u001b[0;32m----> 3\u001b[0;31m \u001b[0msns\u001b[0m\u001b[0;34m.\u001b[0m\u001b[0mcountplot\u001b[0m\u001b[0;34m(\u001b[0m\u001b[0mdf\u001b[0m\u001b[0;34m[\u001b[0m\u001b[0;34m'Application_Type'\u001b[0m\u001b[0;34m]\u001b[0m\u001b[0;34m,\u001b[0m \u001b[0mdata\u001b[0m \u001b[0;34m=\u001b[0m \u001b[0mdf\u001b[0m\u001b[0;34m,\u001b[0m \u001b[0mpalette\u001b[0m \u001b[0;34m=\u001b[0m \u001b[0;34m'hls'\u001b[0m\u001b[0;34m)\u001b[0m\u001b[0;34m\u001b[0m\u001b[0;34m\u001b[0m\u001b[0m\n\u001b[0m\u001b[1;32m      4\u001b[0m \u001b[0mplt\u001b[0m\u001b[0;34m.\u001b[0m\u001b[0mxticks\u001b[0m\u001b[0;34m(\u001b[0m\u001b[0mrotation\u001b[0m \u001b[0;34m=\u001b[0m \u001b[0;36m90\u001b[0m\u001b[0;34m)\u001b[0m\u001b[0;34m\u001b[0m\u001b[0;34m\u001b[0m\u001b[0m\n\u001b[1;32m      5\u001b[0m \u001b[0mplt\u001b[0m\u001b[0;34m.\u001b[0m\u001b[0mshow\u001b[0m\u001b[0;34m(\u001b[0m\u001b[0;34m)\u001b[0m\u001b[0;34m\u001b[0m\u001b[0;34m\u001b[0m\u001b[0m\n",
            "\u001b[0;31mTypeError\u001b[0m: countplot() got multiple values for argument 'data'"
          ]
        },
        {
          "output_type": "display_data",
          "data": {
            "text/plain": [
              "<Figure size 1500x600 with 0 Axes>"
            ]
          },
          "metadata": {}
        }
      ],
      "source": [
        "print('Countplot for:', 'Application Type')\n",
        "plt.figure(figsize=(15,6))\n",
        "sns.countplot(df['Application_Type'], data = df, palette = 'hls')\n",
        "plt.xticks(rotation = 90)\n",
        "plt.show()\n",
        "print('\\n')"
      ]
    },
    {
      "cell_type": "code",
      "execution_count": null,
      "id": "d538897d",
      "metadata": {
        "id": "d538897d"
      },
      "outputs": [],
      "source": [
        "plt.figure(figsize=(20, 20))\n",
        "application_type_counts = df['Application_Type'].value_counts()\n",
        "colors = sns.color_palette('pastel')[0:len(application_type_counts)]\n",
        "plt.pie(application_type_counts, labels=application_type_counts.index, colors=colors, autopct=lambda p:f'{p:.1f}%', startangle=140, pctdistance=0.85, textprops={'fontsize': 25})\n",
        "plt.title(\"Distribution of Application Types\", fontsize=20)\n",
        "plt.axis('equal')\n",
        "plt.show()"
      ]
    },
    {
      "cell_type": "code",
      "execution_count": null,
      "id": "6050cbe8",
      "metadata": {
        "id": "6050cbe8"
      },
      "outputs": [],
      "source": [
        "fig = go.Figure(data=[go.Bar(x=df['Application_Type'].value_counts().index, y=df['Application_Type'].value_counts())])\n",
        "fig.update_layout(title='Application Type', xaxis_title='Application Type',\n",
        "                  yaxis_title=\"Count\")\n",
        "fig.show()"
      ]
    },
    {
      "cell_type": "code",
      "execution_count": null,
      "id": "70a665fb",
      "metadata": {
        "id": "70a665fb"
      },
      "outputs": [],
      "source": [
        "fig = px.pie(df, names= 'Application_Type', title='Distribution of ' + 'Application_Type')\n",
        "fig.show()"
      ]
    },
    {
      "cell_type": "code",
      "execution_count": null,
      "id": "9bd2685b",
      "metadata": {
        "id": "9bd2685b"
      },
      "outputs": [],
      "source": [
        "for i in numerical_columns:\n",
        "    plt.figure(figsize=(15,6))\n",
        "    sns.histplot(df[i], kde = True, bins = 20, palette = 'hls')\n",
        "    plt.xticks(rotation = 0)\n",
        "    plt.show()"
      ]
    },
    {
      "cell_type": "code",
      "execution_count": null,
      "id": "bed2c618",
      "metadata": {
        "id": "bed2c618"
      },
      "outputs": [],
      "source": [
        "for i in numerical_columns:\n",
        "    plt.figure(figsize=(15,6))\n",
        "    sns.distplot(df[i], kde = True, bins = 20)\n",
        "    plt.xticks(rotation = 0)\n",
        "    plt.show()"
      ]
    },
    {
      "cell_type": "code",
      "execution_count": null,
      "id": "4cbd5ec0",
      "metadata": {
        "id": "4cbd5ec0"
      },
      "outputs": [],
      "source": [
        "for i in numerical_columns:\n",
        "    plt.figure(figsize=(15,6))\n",
        "    sns.boxplot(df[i], data=df, palette='hls')\n",
        "    plt.xticks(rotation = 0)\n",
        "    plt.show()"
      ]
    },
    {
      "cell_type": "code",
      "execution_count": null,
      "id": "dbee2d4d",
      "metadata": {
        "id": "dbee2d4d"
      },
      "outputs": [],
      "source": [
        "for i in numerical_columns:\n",
        "    plt.figure(figsize=(15,6))\n",
        "    sns.violinplot(df[i], data=df, palette='hls')\n",
        "    plt.xticks(rotation = 0)\n",
        "    plt.show()"
      ]
    },
    {
      "cell_type": "code",
      "execution_count": null,
      "id": "fc5dcc03",
      "metadata": {
        "id": "fc5dcc03"
      },
      "outputs": [],
      "source": [
        "for i in numerical_columns:\n",
        "    fig = go.Figure(data=[go.Histogram(x=df[i], nbinsx=20)])\n",
        "    fig.update_layout(\n",
        "        title=i,\n",
        "        xaxis_title=i,\n",
        "        yaxis_title=\"Count\")\n",
        "    fig.show()"
      ]
    },
    {
      "cell_type": "code",
      "execution_count": null,
      "id": "c015ea07",
      "metadata": {
        "id": "c015ea07"
      },
      "outputs": [],
      "source": [
        "for i in numerical_columns:\n",
        "    fig = go.Figure(data=[go.Box(x=df[i])])\n",
        "    fig.update_layout(\n",
        "        title=i,\n",
        "        xaxis_title=i,\n",
        "        yaxis_title=\"Value\")\n",
        "    fig.show()"
      ]
    },
    {
      "cell_type": "code",
      "execution_count": null,
      "id": "2e7b3935",
      "metadata": {
        "id": "2e7b3935"
      },
      "outputs": [],
      "source": [
        "for i in numerical_columns:\n",
        "    fig = go.Figure(data=[go.Violin(x=df[i])])\n",
        "    fig.update_layout(\n",
        "        title=i,\n",
        "        xaxis_title=i,\n",
        "        yaxis_title=\"Value\")\n",
        "    fig.show()"
      ]
    },
    {
      "cell_type": "code",
      "execution_count": null,
      "id": "5e033846",
      "metadata": {
        "id": "5e033846"
      },
      "outputs": [],
      "source": [
        "for i in numerical_columns:\n",
        "    plt.figure(figsize=(15,6))\n",
        "    sns.barplot(x = df['Application_Type'], y = df[i], data = df, ci = None, palette = 'hls')\n",
        "    plt.xticks(rotation = 90)\n",
        "    plt.show()"
      ]
    },
    {
      "cell_type": "code",
      "execution_count": null,
      "id": "5dba05d3",
      "metadata": {
        "id": "5dba05d3"
      },
      "outputs": [],
      "source": [
        "for i in numerical_columns:\n",
        "    fig = px.bar(df, x='Application_Type', y=i, color='Application_Type',\n",
        "                 title=f'{i} by Application Type')\n",
        "    fig.update_layout(xaxis_title='Application Type', yaxis_title=i)\n",
        "    fig.show()"
      ]
    },
    {
      "cell_type": "code",
      "execution_count": null,
      "id": "d8515c4c",
      "metadata": {
        "id": "d8515c4c"
      },
      "outputs": [],
      "source": [
        "for i in numerical_columns:\n",
        "    for j in numerical_columns:\n",
        "        if i != j:\n",
        "            plt.figure(figsize=(15,6))\n",
        "            sns.lineplot(x = df[j], y = df[i], data = df, ci = None, palette = 'hls')\n",
        "            plt.show()"
      ]
    },
    {
      "cell_type": "code",
      "execution_count": null,
      "id": "2561c39a",
      "metadata": {
        "id": "2561c39a"
      },
      "outputs": [],
      "source": [
        "for i in numerical_columns:\n",
        "    for j in numerical_columns:\n",
        "        if i != j:\n",
        "            plt.figure(figsize=(15,6))\n",
        "            sns.scatterplot(x = df[j], y = df[i], data = df, ci = None, palette = 'hls')\n",
        "            plt.show()"
      ]
    },
    {
      "cell_type": "code",
      "execution_count": null,
      "id": "d45ab468",
      "metadata": {
        "id": "d45ab468"
      },
      "outputs": [],
      "source": [
        "for i in numerical_columns:\n",
        "    grouped_df = df.groupby('Application_Type')[i].mean().reset_index()\n",
        "    fig = px.bar(grouped_df, x='Application_Type', y=i, color='Application_Type', title=f'Mean {i} by Application Type')\n",
        "    fig.update_layout(xaxis_title='Application Type', yaxis_title=f'Mean {i}')\n",
        "    fig.show()"
      ]
    },
    {
      "cell_type": "code",
      "execution_count": null,
      "id": "0db5eacb",
      "metadata": {
        "id": "0db5eacb"
      },
      "outputs": [],
      "source": [
        "plt.figure(figsize=(12, 6))\n",
        "plt.plot(df['Timestamp'], df['Signal_Strength'], marker='o', linestyle='-')\n",
        "plt.xlabel('Timestamp')\n",
        "plt.ylabel('Signal Strength (dBm)')\n",
        "plt.title('Signal Strength Over Time')\n",
        "plt.grid(True)\n",
        "plt.xticks(rotation=45)\n",
        "plt.show()"
      ]
    },
    {
      "cell_type": "code",
      "execution_count": null,
      "id": "daae93e8",
      "metadata": {
        "id": "daae93e8"
      },
      "outputs": [],
      "source": [
        "plt.figure(figsize=(12, 6))\n",
        "plt.plot(df['Timestamp'], df['Latency'], marker='o', linestyle='-')\n",
        "plt.xlabel('Timestamp')\n",
        "plt.ylabel('Latency (ms)')\n",
        "plt.title('Latency Over Time')\n",
        "plt.grid(True)\n",
        "plt.xticks(rotation=45)\n",
        "plt.show()"
      ]
    },
    {
      "cell_type": "code",
      "execution_count": null,
      "id": "76a7e61d",
      "metadata": {
        "id": "76a7e61d"
      },
      "outputs": [],
      "source": [
        "plt.figure(figsize=(12, 6))\n",
        "plt.plot(df['Timestamp'], df['Resource_Allocation'], marker='o', linestyle='-')\n",
        "plt.xlabel('Timestamp')\n",
        "plt.ylabel('Resource Allocation')\n",
        "plt.title('Resource Allocation Over Time')\n",
        "plt.grid(True)\n",
        "plt.xticks(rotation=45)\n",
        "plt.show()"
      ]
    },
    {
      "cell_type": "code",
      "execution_count": null,
      "id": "85bd3a41",
      "metadata": {
        "id": "85bd3a41"
      },
      "outputs": [],
      "source": [
        "fig_latency = px.line(df, x='Timestamp', y='Signal_Strength', title='Signal Strength Over Time')\n",
        "fig_latency.show()"
      ]
    },
    {
      "cell_type": "code",
      "execution_count": null,
      "id": "e6e326b0",
      "metadata": {
        "id": "e6e326b0"
      },
      "outputs": [],
      "source": [
        "fig_latency = px.line(df, x='Timestamp', y='Latency', title='Latency Over Time')\n",
        "fig_latency.show()"
      ]
    },
    {
      "cell_type": "code",
      "execution_count": null,
      "id": "d0e974b0",
      "metadata": {
        "id": "d0e974b0"
      },
      "outputs": [],
      "source": [
        "fig_allocation = px.line(df, x='Timestamp', y='Resource_Allocation', title='Resource Allocation Over Time')\n",
        "fig_allocation.show()"
      ]
    },
    {
      "cell_type": "code",
      "execution_count": null,
      "id": "55a4c43f",
      "metadata": {
        "id": "55a4c43f"
      },
      "outputs": [],
      "source": [
        "correlation_matrix = df.corr()"
      ]
    },
    {
      "cell_type": "code",
      "execution_count": null,
      "id": "858eb76a",
      "metadata": {
        "id": "858eb76a"
      },
      "outputs": [],
      "source": [
        "plt.figure(figsize=(10, 6))\n",
        "sns.heatmap(correlation_matrix, annot=True, cmap='coolwarm', linewidths=0.5)\n",
        "plt.title('Correlation Heatmap')\n",
        "plt.show()"
      ]
    },
    {
      "cell_type": "code",
      "execution_count": null,
      "id": "f435f794",
      "metadata": {
        "id": "f435f794"
      },
      "outputs": [],
      "source": [
        "df['Efficiency_Ratio_Latency'] = df['Allocated_Bandwidth'] / df['Latency']\n",
        "df['Resource_Performance'] = df['Resource_Allocation'] * df['Signal_Strength']"
      ]
    },
    {
      "cell_type": "code",
      "execution_count": null,
      "id": "2ea45709",
      "metadata": {
        "id": "2ea45709"
      },
      "outputs": [],
      "source": [
        "print(df[['Efficiency_Ratio_Latency', 'Resource_Performance']].head())"
      ]
    },
    {
      "cell_type": "code",
      "execution_count": null,
      "id": "d9a375ef",
      "metadata": {
        "id": "d9a375ef"
      },
      "outputs": [],
      "source": [
        "fig_efficiency = px.scatter(df, x='Efficiency_Ratio_Latency', y='Resource_Allocation', title='Efficiency vs. Resource Allocation')\n",
        "fig_efficiency.show()"
      ]
    },
    {
      "cell_type": "code",
      "execution_count": null,
      "id": "7a02ca96",
      "metadata": {
        "id": "7a02ca96"
      },
      "outputs": [],
      "source": [
        "from sklearn.model_selection import train_test_split\n",
        "from sklearn.linear_model import LinearRegression\n",
        "from sklearn.metrics import mean_squared_error, r2_score"
      ]
    },
    {
      "cell_type": "code",
      "execution_count": null,
      "id": "371390a8",
      "metadata": {
        "id": "371390a8"
      },
      "outputs": [],
      "source": [
        "X = df[['Signal_Strength', 'Required_Bandwidth']]\n",
        "y = df['Resource_Allocation']"
      ]
    },
    {
      "cell_type": "code",
      "execution_count": null,
      "id": "58033228",
      "metadata": {
        "id": "58033228"
      },
      "outputs": [],
      "source": [
        "X_train, X_test, y_train, y_test = train_test_split(X, y, test_size=0.2, random_state=42)"
      ]
    },
    {
      "cell_type": "code",
      "execution_count": null,
      "id": "619f7fc8",
      "metadata": {
        "id": "619f7fc8"
      },
      "outputs": [],
      "source": [
        "model = LinearRegression()\n",
        "model.fit(X_train, y_train)"
      ]
    },
    {
      "cell_type": "code",
      "execution_count": null,
      "id": "08100857",
      "metadata": {
        "id": "08100857"
      },
      "outputs": [],
      "source": [
        "y_pred = model.predict(X_test)"
      ]
    },
    {
      "cell_type": "code",
      "execution_count": null,
      "id": "f4e7653c",
      "metadata": {
        "id": "f4e7653c"
      },
      "outputs": [],
      "source": [
        "mse = mean_squared_error(y_test, y_pred)\n",
        "r2 = r2_score(y_test, y_pred)\n",
        "\n",
        "print(f'Mean Squared Error: {mse}')\n",
        "print(f'R-squared: {r2}')"
      ]
    },
    {
      "cell_type": "code",
      "execution_count": null,
      "id": "79a121f7",
      "metadata": {
        "id": "79a121f7"
      },
      "outputs": [],
      "source": [
        "plt.scatter(X_test['Signal_Strength'], y_test, color='blue', label='Actual')\n",
        "plt.scatter(X_test['Signal_Strength'], y_pred, color='red', label='Predicted')\n",
        "plt.xlabel('Signal Strength (dBm)')\n",
        "plt.ylabel('Resource Allocation')\n",
        "plt.legend()\n",
        "plt.title('Linear Regression: Resource Allocation vs. Signal Strength and Required Bandwidth')\n",
        "plt.show()"
      ]
    },
    {
      "cell_type": "code",
      "execution_count": null,
      "id": "7250a953",
      "metadata": {
        "id": "7250a953"
      },
      "outputs": [],
      "source": [
        "from sklearn.preprocessing import PolynomialFeatures\n",
        "from sklearn.pipeline import make_pipeline"
      ]
    },
    {
      "cell_type": "code",
      "execution_count": null,
      "id": "9827141a",
      "metadata": {
        "id": "9827141a"
      },
      "outputs": [],
      "source": [
        "degree = 5\n",
        "polyreg = make_pipeline(PolynomialFeatures(degree), LinearRegression())\n",
        "polyreg.fit(X_train, y_train)"
      ]
    },
    {
      "cell_type": "code",
      "execution_count": null,
      "id": "461eccfa",
      "metadata": {
        "id": "461eccfa"
      },
      "outputs": [],
      "source": [
        "y_pred_poly = polyreg.predict(X_test)"
      ]
    },
    {
      "cell_type": "code",
      "execution_count": null,
      "id": "82213f49",
      "metadata": {
        "id": "82213f49"
      },
      "outputs": [],
      "source": [
        "mse_poly = mean_squared_error(y_test, y_pred_poly)\n",
        "r2_poly = r2_score(y_test, y_pred_poly)\n",
        "\n",
        "print(f'Polynomial Regression - Mean Squared Error: {mse_poly}')\n",
        "print(f'Polynomial Regression - R-squared: {r2_poly}')"
      ]
    },
    {
      "cell_type": "code",
      "execution_count": null,
      "id": "b840ee7c",
      "metadata": {
        "id": "b840ee7c"
      },
      "outputs": [],
      "source": [
        "plt.scatter(X_test['Signal_Strength'], y_test, color='blue', label='Actual')\n",
        "plt.scatter(X_test['Signal_Strength'], y_pred_poly, color='red', label='Predicted')\n",
        "plt.xlabel('Signal Strength (dBm)')\n",
        "plt.ylabel('Resource Allocation')\n",
        "plt.legend()\n",
        "plt.title('Linear Regression: Resource Allocation vs. Signal Strength and Required Bandwidth')\n",
        "plt.show()"
      ]
    },
    {
      "cell_type": "code",
      "execution_count": null,
      "id": "a9aa947d",
      "metadata": {
        "id": "a9aa947d"
      },
      "outputs": [],
      "source": [
        "fig = go.Figure()\n",
        "fig.add_trace(go.Scatter(x=X_test['Signal_Strength'], y=y_test, mode='markers', name='Actual', marker=dict(color='blue')))\n",
        "fig.add_trace(go.Scatter(x=X_test['Signal_Strength'], y=y_pred_poly, mode='markers', name='Predicted', marker=dict(color='red')))\n",
        "fig.update_layout(xaxis_title='Signal Strength (dBm)', yaxis_title='Resource Allocation', title='Linear Regression: Actual vs. Predicted Resource Allocation')\n",
        "fig.show()"
      ]
    },
    {
      "cell_type": "code",
      "execution_count": null,
      "id": "48d82888",
      "metadata": {
        "id": "48d82888"
      },
      "outputs": [],
      "source": [
        "df['Latency_Signal_Interaction'] = df['Latency'] * df['Signal_Strength']"
      ]
    },
    {
      "cell_type": "code",
      "execution_count": null,
      "id": "c5b20b7e",
      "metadata": {
        "id": "c5b20b7e"
      },
      "outputs": [],
      "source": [
        "X = df[['Latency', 'Latency_Signal_Interaction']]\n",
        "X_train, X_test, y_train, y_test = train_test_split(X, y, test_size=0.2, random_state=42)"
      ]
    },
    {
      "cell_type": "code",
      "execution_count": null,
      "id": "b61c6c6e",
      "metadata": {
        "id": "b61c6c6e"
      },
      "outputs": [],
      "source": [
        "model = LinearRegression()\n",
        "model.fit(X_train, y_train)"
      ]
    },
    {
      "cell_type": "code",
      "execution_count": null,
      "id": "1fc9e9e1",
      "metadata": {
        "id": "1fc9e9e1"
      },
      "outputs": [],
      "source": [
        "y_pred = model.predict(X_test)"
      ]
    },
    {
      "cell_type": "code",
      "execution_count": null,
      "id": "3354f539",
      "metadata": {
        "id": "3354f539"
      },
      "outputs": [],
      "source": [
        "mse_new_feature = mean_squared_error(y_test, y_pred)\n",
        "r2_new_feature = r2_score(y_test, y_pred)\n",
        "\n",
        "print(f'Mean Squared Error with New Feature: {mse_new_feature}')\n",
        "print(f'R-squared with New Feature: {r2_new_feature}')"
      ]
    },
    {
      "cell_type": "code",
      "execution_count": null,
      "id": "a8f2147c",
      "metadata": {
        "id": "a8f2147c"
      },
      "outputs": [],
      "source": [
        "degree = 4\n",
        "polyreg = PolynomialFeatures(degree)\n",
        "X_poly_train = polyreg.fit_transform(X_train)\n",
        "X_poly_test = polyreg.transform(X_test)"
      ]
    },
    {
      "cell_type": "code",
      "execution_count": null,
      "id": "26fd4f7c",
      "metadata": {
        "id": "26fd4f7c"
      },
      "outputs": [],
      "source": [
        "model = LinearRegression()\n",
        "model.fit(X_poly_train, y_train)"
      ]
    },
    {
      "cell_type": "code",
      "execution_count": null,
      "id": "32f3ba13",
      "metadata": {
        "id": "32f3ba13"
      },
      "outputs": [],
      "source": [
        "y_pred_poly = model.predict(X_poly_test)"
      ]
    },
    {
      "cell_type": "code",
      "execution_count": null,
      "id": "8b9e34c2",
      "metadata": {
        "id": "8b9e34c2"
      },
      "outputs": [],
      "source": [
        "mse_poly = mean_squared_error(y_test, y_pred_poly)\n",
        "r2_poly = r2_score(y_test, y_pred_poly)\n",
        "\n",
        "print(f'Mean Squared Error with Polynomial Feature: {mse_poly}')\n",
        "print(f'R-squared with Polynomial Feature: {r2_poly}')"
      ]
    },
    {
      "cell_type": "markdown",
      "id": "0233889a",
      "metadata": {
        "id": "0233889a"
      },
      "source": [
        "# Thanks !!!"
      ]
    }
  ],
  "metadata": {
    "kernelspec": {
      "display_name": "Python 3 (ipykernel)",
      "language": "python",
      "name": "python3"
    },
    "language_info": {
      "codemirror_mode": {
        "name": "ipython",
        "version": 3
      },
      "file_extension": ".py",
      "mimetype": "text/x-python",
      "name": "python",
      "nbconvert_exporter": "python",
      "pygments_lexer": "ipython3",
      "version": "3.8.4"
    },
    "colab": {
      "provenance": [],
      "include_colab_link": true
    }
  },
  "nbformat": 4,
  "nbformat_minor": 5
}